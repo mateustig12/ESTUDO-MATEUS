{
 "cells": [
  {
   "cell_type": "code",
   "execution_count": 3,
   "id": "bbfc0419-8dff-48c4-a004-ea618dda31c3",
   "metadata": {},
   "outputs": [
    {
     "name": "stdout",
     "output_type": "stream",
     "text": [
      "O faturamento da loja foi no valor de2000, o custo foi no valor de500\n"
     ]
    }
   ],
   "source": [
    "faturamento = 2000\n",
    "custo = 500\n",
    "lucro = faturamento - custo\n",
    "\n",
    "print( 'O faturamento da loja foi no valor de' + str(faturamento) + ', o custo foi no valor de' + str(custo))"
   ]
  },
  {
   "cell_type": "code",
   "execution_count": null,
   "id": "9617c1e5-a895-4495-bf49-631041c96e90",
   "metadata": {},
   "outputs": [],
   "source": []
  }
 ],
 "metadata": {
  "kernelspec": {
   "display_name": "Python 3 (ipykernel)",
   "language": "python",
   "name": "python3"
  },
  "language_info": {
   "codemirror_mode": {
    "name": "ipython",
    "version": 3
   },
   "file_extension": ".py",
   "mimetype": "text/x-python",
   "name": "python",
   "nbconvert_exporter": "python",
   "pygments_lexer": "ipython3",
   "version": "3.11.7"
  }
 },
 "nbformat": 4,
 "nbformat_minor": 5
}
